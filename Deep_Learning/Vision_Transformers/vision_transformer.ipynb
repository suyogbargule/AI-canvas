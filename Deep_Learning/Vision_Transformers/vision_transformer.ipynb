{
 "cells": [
  {
   "cell_type": "markdown",
   "metadata": {},
   "source": [
    "## Vision Transformer"
   ]
  },
  {
   "cell_type": "markdown",
   "metadata": {},
   "source": [
    "- Resources\n",
    "\n",
    "  - [An Image is Worth 16×16 Words: Transformers for Image Recognition at Scale (Vision Transformers Analytics-vidhya)](https://www.analyticsvidhya.com/blog/2021/03/an-image-is-worth-16x16-words-transformers-for-image-recognition-at-scale-vision-transformers/)\n",
    "\n",
    "  - [The Illustrated Transformer](http://jalammar.github.io/illustrated-transformer/)\n",
    "\n",
    "  - [Attention Is All You Need](https://arxiv.org/abs/1706.03762)\n",
    "\n",
    "  - [vit-pytorch](https://github.com/lucidrains/vit-pytorch/tree/main)\n",
    "\n",
    "  - [AN IMAGE IS WORTH 16X16 WORDS : TRANSFORMERS FOR IMAGE RECOGNITION AT SCALE (Paper)](https://openreview.net/pdf?id=YicbFdNTTy)\n",
    "\n",
    "  - [GAUSSIAN ERROR LINEAR UNITS](https://arxiv.org/pdf/1606.08415v3)\n",
    "\n",
    "  - [An Image is Worth 16x16 Words:Transformers for Image Recognition at Scale (Paper Explained)- youtube video](https://www.youtube.com/watch?v=Gl48KciWZp0&t=1539s)    \n",
    "\n",
    "  - [Transformers in Computer Vision: Farewell Convolutions!](https://towardsdatascience.com/transformers-in-computer-vision-farewell-convolutions-f083da6ef8ab)"
   ]
  }
 ],
 "metadata": {
  "language_info": {
   "name": "python"
  }
 },
 "nbformat": 4,
 "nbformat_minor": 2
}
