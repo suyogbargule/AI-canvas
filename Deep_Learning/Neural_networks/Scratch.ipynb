{
 "cells": [
  {
   "cell_type": "markdown",
   "metadata": {},
   "source": [
    "# Neural Networks from Scratch"
   ]
  },
  {
   "cell_type": "markdown",
   "metadata": {},
   "source": [
    "## One single perceptron"
   ]
  },
  {
   "cell_type": "code",
   "execution_count": 3,
   "metadata": {},
   "outputs": [
    {
     "name": "stdout",
     "output_type": "stream",
     "text": [
      "Output = 52.68\n"
     ]
    }
   ],
   "source": [
    "# Video link https://www.youtube.com/watch?v=Wo5dMEP_BbI&list=PLQVvvaa0QuDcjD5BAw2DxE6OF2tius3V3&index=1\n",
    "inputs =  [0.6, 3.2, 8.4] # Input node\n",
    "weights  = [2.2, 5.5, 3.9]# Weigthd\n",
    "bias = 1 #bias\n",
    "# Output node \n",
    "output = inputs[0]*weights[0] + inputs[1] * weights[1] + inputs[2]*weights[2] + bias\n",
    "print(f\"Output = {output}\")"
   ]
  },
  {
   "attachments": {
    "newrwlnwrwork.drawio.png": {
     "image/png": "[encoded data removed]"
    }
   },
   "cell_type": "markdown",
   "metadata": {},
   "source": [
    "![newrwlnwrwork.drawio.png](attachment:newrwlnwrwork.drawio.png)"
   ]
  },
  {
   "cell_type": "code",
   "execution_count": 7,
   "metadata": {},
   "outputs": [
    {
     "name": "stdout",
     "output_type": "stream",
     "text": [
      "Single Perseptron with 4 inputs and 1 output = 87.44999999999999\n",
      "4 input node and 3 outputnods = [4.8, 1.21, 2.385]\n"
     ]
    }
   ],
   "source": [
    "# Video link https://www.youtube.com/watch?v=lGLto9Xd7bU&list=PLQVvvaa0QuDcjD5BAw2DxE6OF2tius3V3&index=2\n",
    "inputs =  [0.6, 3.2, 8.4,5.7] # Input node\n",
    "weights  = [2.2, 5.5, 3.9,6.1]# Weigthd\n",
    "bias = 1 #bias\n",
    "# Output node \n",
    "output = inputs[0]*weights[0] + inputs[1] * weights[1] + inputs[2]*weights[2] + inputs[3]*weights[3] + bias\n",
    "print(f\"Single Perseptron with 4 inputs and 1 output = {output}\")\n",
    "\n",
    "###########################################\n",
    "#### 4 inputs nodes and 3 output nodes ####\n",
    "###########################################\n",
    "\n",
    "inputs = [1, 2, 3, 2.5] # 4 inputs\n",
    "weights1 = [0.2, 0.8, -0.5, 1.0] # Weigthd 1\n",
    "weights2 = [0.5, -0.91, 0.26, -0.5] # Weigthd 2\n",
    "weights3 = [-0.26, -0.27, 0.17, 0.87] # Weigthd 3\n",
    "bias1 = 2 # bias 1\n",
    "bias2 = 3 # bias 2\n",
    "bias3 = 0.5 # bias 3\n",
    "\n",
    "# Output\n",
    "output = [inputs[0] * weights1[0] + inputs[1] * weights1[1] + inputs[2] * weights1[2] + inputs[3] * weights1[3] + bias1,\n",
    "          inputs[0] * weights2[0] + inputs[1] * weights2[1] + inputs[2] * weights2[2] + inputs[3] * weights2[3] + bias2,\n",
    "          inputs[0] * weights3[0] + inputs[1] * weights3[1] + inputs[2] * weights3[2] + inputs[3] * weights3[3] + bias3]\n",
    "\n",
    "print(f\"4 input node and 3 outputnods = {output}\")\n"
   ]
  },
  {
   "cell_type": "code",
   "execution_count": 5,
   "metadata": {},
   "outputs": [
    {
     "name": "stdout",
     "output_type": "stream",
     "text": [
      "4 input node and 3 outputnods = [4.8, 1.21, 2.21]\n"
     ]
    }
   ],
   "source": [
    "# Video link https://www.youtube.com/watch?v=tMrbN67U9d4&list=PLQVvvaa0QuDcjD5BAw2DxE6OF2tius3V3&index=3\n",
    "###########################################\n",
    "#### 4 inputs nodes and 3 output nodes ####\n",
    "###########################################\n",
    "\n",
    "# Input 4 node\n",
    "inputs  = [1, 2, 3, 2.5]\n",
    "\n",
    "# Weights\n",
    "weights = [[ 0.2,   0.8,  -0.5,  1.0],\n",
    "           [ 0.5,  -0.91, 0.26, -0.5],\n",
    "           [-0.26, -0.27, 0.17,  0.8]]\n",
    "\n",
    "# Biases\n",
    "biases =  [2, 3, 0.5]\n",
    "\n",
    "layer_outputs = [] # Output of current layer\n",
    "\n",
    "for neuron_weights, neuron_bias in zip(weights, biases):\n",
    "    neuron_output = 0 # Output of given neuron\n",
    "    for n_input, weight in zip(inputs, neuron_weights):\n",
    "        neuron_output += n_input*weight\n",
    "    neuron_output += neuron_bias\n",
    "    layer_outputs.append(neuron_output)\n",
    "\n",
    "print(f\"4 input node and 3 outputnods = {layer_outputs}\")\n"
   ]
  },
  {
   "cell_type": "code",
   "execution_count": 7,
   "metadata": {},
   "outputs": [
    {
     "name": "stdout",
     "output_type": "stream",
     "text": [
      "4.8\n"
     ]
    }
   ],
   "source": [
    "# Video link https://www.youtube.com/watch?v=tMrbN67U9d4&list=PLQVvvaa0QuDcjD5BAw2DxE6OF2tius3V3&index=3\n",
    "###########################################\n",
    "#### Single perceptron use dot product ####\n",
    "###########################################\n",
    "\n",
    "# numpy install \n",
    "# ! pip install numpy\n",
    "\n",
    "import numpy as np\n",
    "inputs = [1, 2, 3, 2.5] # Input\n",
    "weights = [0.2, 0.8, -0.5, 1.0] # Weights\n",
    "bias = 2 # Bias\n",
    "# Output\n",
    "output = np.dot(inputs, weights) + bias\n",
    "print (output)"
   ]
  },
  {
   "cell_type": "code",
   "execution_count": 9,
   "metadata": {},
   "outputs": [
    {
     "name": "stdout",
     "output_type": "stream",
     "text": [
      "[4.8  1.21 2.21]\n"
     ]
    }
   ],
   "source": [
    "# Video link https://www.youtube.com/watch?v=tMrbN67U9d4&list=PLQVvvaa0QuDcjD5BAw2DxE6OF2tius3V3&index=3\n",
    "###########################################\n",
    "#### 4 inputs nodes and 3 output nodes ####\n",
    "###########################################\n",
    "\n",
    "import numpy as np\n",
    "# Input 4 node\n",
    "inputs  = [1, 2, 3, 2.5]\n",
    "\n",
    "# Weights 3X4  \n",
    "weights = [[ 0.2,   0.8,  -0.5,  1.0],\n",
    "           [ 0.5,  -0.91, 0.26, -0.5],\n",
    "           [-0.26, -0.27, 0.17,  0.8]]\n",
    "\n",
    "# Biases\n",
    "biases =  [2, 3, 0.5]\n",
    "\n",
    "# Output\n",
    "output = np.dot (weights, inputs) + biases\n",
    "print(output) "
   ]
  },
  {
   "cell_type": "code",
   "execution_count": 2,
   "metadata": {},
   "outputs": [
    {
     "name": "stdout",
     "output_type": "stream",
     "text": [
      "[[ 4.8    1.21   2.21 ]\n",
      " [ 8.9   -1.81   0.06 ]\n",
      " [ 1.41   1.051  0.082]]\n"
     ]
    }
   ],
   "source": [
    "# Video link https://www.youtube.com/watch?v=TEWy9vZcxW4&list=PLQVvvaa0QuDcjD5BAw2DxE6OF2tius3V3&index=4\n",
    "\n",
    "import numpy as np\n",
    "# Input 3X4\n",
    "inputs = [[ 1,   2,    3,    2.5],\n",
    "          [ 2.0, 5.0, -1.0,  2.0],\n",
    "          [-1.5, 2.7,  3.3, -0.8]]\n",
    "\n",
    "# Weights 3X4\n",
    "weights = [[ 0.2,   0.8,  -0.5,  1.0],\n",
    "           [ 0.5,  -0.91, 0.26, -0.5],\n",
    "           [-0.26, -0.27, 0.17,  0.8]]\n",
    "\n",
    "# Biases\n",
    "biases = [2, 3, 0.5] \n",
    "\n",
    "# Output\n",
    "output = np.dot(inputs, np.array(weights).T) + biases\n",
    "print (output)"
   ]
  },
  {
   "cell_type": "code",
   "execution_count": 3,
   "metadata": {},
   "outputs": [
    {
     "name": "stdout",
     "output_type": "stream",
     "text": [
      "[[ 0.4156  -0.9841  -2.016  ]\n",
      " [ 0.1734  -2.687   -5.7451 ]\n",
      " [-0.96514  1.39406 -0.36383]]\n"
     ]
    }
   ],
   "source": [
    "# Video link https://www.youtube.com/watch?v=TEWy9vZcxW4&list=PLQVvvaa0QuDcjD5BAw2DxE6OF2tius3V3&index=4\n",
    "\n",
    "import numpy as np\n",
    "# Input 3X4\n",
    "inputs = [[ 1,   2,    3,    2.5],\n",
    "          [ 2.0, 5.0, -1.0,  2.0],\n",
    "          [-1.5, 2.7,  3.3, -0.8]]\n",
    "\n",
    "# Weights 3X4\n",
    "weights = [[ 0.2,   0.8,  -0.5,  1.0],\n",
    "           [ 0.5,  -0.91, 0.26, -0.5],\n",
    "           [-0.26, -0.27, 0.17,  0.8]]\n",
    "\n",
    "# Biases\n",
    "biases = [2, 3, 0.5] \n",
    "\n",
    "# Weights2 3X4\n",
    "weights2 = [[ 0.1, -0.14,  0.5],\n",
    "            [-0.5,  0.12, -0.33],\n",
    "            [-0.44, 0.73, -0.13]]\n",
    "\n",
    "# Biases 2\n",
    "biases2 = [-1, 2, -0.5]\n",
    "\n",
    "layer1_outputs = np.dot(inputs, np.array(weights).T) + biases\n",
    "layer2_outputs = np.dot(layer1_outputs, np.array(weights2).T) + biases2\n",
    "print(layer2_outputs)"
   ]
  },
  {
   "cell_type": "code",
   "execution_count": 10,
   "metadata": {},
   "outputs": [
    {
     "name": "stdout",
     "output_type": "stream",
     "text": [
      "[[-0.00788071 -0.08248045]\n",
      " [ 0.01056422  0.02343153]\n",
      " [-0.08957629 -0.04120447]]\n"
     ]
    }
   ],
   "source": [
    "# Video link https://www.youtube.com/watch?v=TEWy9vZcxW4&list=PLQVvvaa0QuDcjD5BAw2DxE6OF2tius3V3&index=4\n",
    "\n",
    "import numpy as np\n",
    "\n",
    "# Input 3X4\n",
    "inputs = [[ 1,   2,    3,    2.5],\n",
    "          [ 2.0, 5.0, -1.0,  2.0],\n",
    "          [-1.5, 2.7,  3.3, -0.8]]\n",
    "\n",
    "class Layer_Dense:\n",
    "    def __init__(self, n_inputs, n_neurons):\n",
    "        self.weights = 0.10 * np.random.randn (n_inputs, n_neurons)\n",
    "        self.biases = np.zeros((1, n_neurons))\n",
    "    def forward(self, inputs):\n",
    "        self.output = np.dot(inputs, self.weights) + self.biases\n",
    "\n",
    "layer1 = Layer_Dense(4,5)\n",
    "layer2 = Layer_Dense(5,2)\n",
    "layer1.forward(inputs)\n",
    "#print(layer1.output)\n",
    "layer2. forward(layer1.output)\n",
    "print(layer2.output)"
   ]
  },
  {
   "cell_type": "code",
   "execution_count": null,
   "metadata": {},
   "outputs": [],
   "source": []
  }
 ],
 "metadata": {
  "kernelspec": {
   "display_name": "Python 3",
   "language": "python",
   "name": "python3"
  },
  "language_info": {
   "codemirror_mode": {
    "name": "ipython",
    "version": 3
   },
   "file_extension": ".py",
   "mimetype": "text/x-python",
   "name": "python",
   "nbconvert_exporter": "python",
   "pygments_lexer": "ipython3",
   "version": "3.11.6"
  }
 },
 "nbformat": 4,
 "nbformat_minor": 2
}
